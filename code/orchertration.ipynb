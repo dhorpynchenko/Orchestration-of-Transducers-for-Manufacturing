{
 "cells": [
  {
   "cell_type": "code",
   "execution_count": 13,
   "metadata": {
    "pycharm": {
     "is_executing": false,
     "name": "#%%\n"
    }
   },
   "outputs": [],
   "source": [
    "from graphviz import Digraph\n"
   ]
  },
  {
   "cell_type": "markdown",
   "metadata": {},
   "source": [
    "# Classes definition"
   ]
  },
  {
   "cell_type": "code",
   "execution_count": 14,
   "metadata": {
    "pycharm": {
     "name": "#%% \n",
     "is_executing": false
    }
   },
   "outputs": [],
   "source": [
    "class State:\n",
    "    \"\"\"\n",
    "    Transducer's automaton state representation\n",
    "    \"\"\"\n",
    "    def __init__(self, name)-> None:\n",
    "        self.name = name\n",
    "\n",
    "\n",
    "class Transition:\n",
    "    \"\"\"\n",
    "    Represents state + input -> result \n",
    "    \"\"\"\n",
    "    def __init__(self, state: State, input, output)-> None:\n",
    "        \"\"\"\n",
    "        Create portion of transition change\n",
    "        :param state: state of automaton\n",
    "        :param input: input \n",
    "        :param output: state for transition function or output value for output function\n",
    "        \"\"\"\n",
    "        self.output = output\n",
    "        self.input = input\n",
    "        self.state = state\n",
    "        \n",
    "\n",
    "class Transducer:\n",
    "    def __init__(self, name: str, inputs: set, outputs: set, states: set,\n",
    "                 init_state: State, transitions_f: list, output_f: list)-> None:\n",
    "        \"\"\"\n",
    "        \n",
    "        :param inputs: set of possible inputs\n",
    "        :param outputs: set of possible outputs\n",
    "        :param states: set of states\n",
    "        :param init_state: initial transducer state\n",
    "        :param transitions_f: list of transitions for states\n",
    "        :param output_f: list of transitions for outputs\n",
    "        \"\"\"\n",
    "        super().__init__()\n",
    "        self.name = name\n",
    "        self.output_f = output_f\n",
    "        self.transitions_f = transitions_f\n",
    "        self.init_state = init_state\n",
    "        self.states = states\n",
    "        self.outputs = outputs\n",
    "        self.inputs = inputs\n",
    "    \n",
    "    def get_transaction_or_error(self, state: State, inp)-> State:\n",
    "        pass\n",
    "    \n",
    "    def get_output(self, state: State, inp):\n",
    "        \"\"\"\n",
    "        \n",
    "        \"\"\"\n",
    "        pass\n"
   ]
  },
  {
   "cell_type": "markdown",
   "metadata": {},
   "source": [
    "## Create target transducer"
   ]
  },
  {
   "cell_type": "code",
   "execution_count": 15,
   "metadata": {
    "pycharm": {
     "is_executing": false,
     "name": "#%%\n"
    }
   },
   "outputs": [],
   "source": [
    "# Create target transducer form paper\n",
    "# States\n",
    "s0 = State('s0')\n",
    "s1 = State('s1')\n",
    "s2 = State('s2')\n",
    "\n",
    "# Inputs\n",
    "cleansq = 'cleansq'\n",
    "cleanrd = 'cleanrd'\n",
    "greensq = 'greensq'\n",
    "yellowrd = 'yellowrd'\n",
    "\n",
    "# Outputs\n",
    "sqclean = 'sqclean'\n",
    "rdclean = 'rdclean'\n",
    "sqgreen = 'sqgreen'\n",
    "rdyellow = 'rdyellow'\n",
    "\n",
    "# Transitions\n",
    "transitions = set()\n",
    "transitions.add(Transition(s0, cleansq, s1))\n",
    "transitions.add(Transition(s0, cleanrd, s2))\n",
    "transitions.add(Transition(s1, greensq, s0))\n",
    "transitions.add(Transition(s2, yellowrd, s0))\n",
    "\n",
    "# Outputs\n",
    "outputs = set()\n",
    "outputs.add(Transition(s0, cleansq, sqclean))\n",
    "outputs.add(Transition(s0, cleanrd, rdclean))\n",
    "outputs.add(Transition(s1, greensq, sqgreen))\n",
    "outputs.add(Transition(s0, yellowrd, rdyellow))\n",
    "\n",
    "target_transducer = Transducer('Target', {cleansq, cleanrd, greensq, yellowrd}, {sqclean, rdclean, sqgreen, rdyellow},\n",
    "                               {s0, s1, s2}, s0, transitions, outputs)\n"
   ]
  },
  {
   "cell_type": "markdown",
   "metadata": {},
   "source": [
    "## Produce an automaton of the target transducer"
   ]
  },
  {
   "cell_type": "code",
   "execution_count": 16,
   "metadata": {
    "pycharm": {
     "is_executing": false
    }
   },
   "outputs": [],
   "source": [
    "def get_transducer_automaton(transducer: Transducer):\n",
    "    from IPython.display import Image\n",
    "    dot = Digraph(comment='The Automaton of %s transducer' % transducer.name)\n",
    "\n",
    "    for state in list(transducer.states):\n",
    "        dot.node(state.name, state.name)\n",
    "\n",
    "    for trans in list(transducer.transitions_f):\n",
    "        dot.edge(trans.state.name, trans.output.name, trans.input)\n",
    "\n",
    "    filename = '../log/%s_transducer' % transducer.name\n",
    "    dot.render(filename, format='png')\n",
    "    return Image(url= filename + '.png')"
   ]
  },
  {
   "cell_type": "code",
   "execution_count": 17,
   "metadata": {
    "pycharm": {
     "is_executing": false,
     "name": "#%%\n"
    }
   },
   "outputs": [
    {
     "data": {
      "text/html": "<img src=\"../log/Target_transducer.png\"/>",
      "text/plain": "<IPython.core.display.Image object>"
     },
     "metadata": {},
     "output_type": "execute_result",
     "execution_count": 17
    }
   ],
   "source": [
    "get_transducer_automaton(target_transducer)"
   ]
  },
  {
   "cell_type": "markdown",
   "metadata": {},
   "source": [
    "## Create production resources P"
   ]
  },
  {
   "cell_type": "code",
   "execution_count": 18,
   "metadata": {
    "pycharm": {
     "is_executing": false
    }
   },
   "outputs": [
    {
     "data": {
      "text/html": "<img src=\"../log/Cleaner_transducer.png\"/>",
      "text/plain": "<IPython.core.display.Image object>"
     },
     "metadata": {},
     "output_type": "execute_result",
     "execution_count": 18
    }
   ],
   "source": [
    "# Cleaner\n",
    "s01 = State('s01')\n",
    "\n",
    "transitions = set()\n",
    "transitions.add(Transition(s01, cleansq, s01))\n",
    "transitions.add(Transition(s01, cleanrd, s01))\n",
    "\n",
    "outputs = set()\n",
    "outputs.add(Transition(s01, cleansq, sqclean))\n",
    "outputs.add(Transition(s01, cleanrd, rdclean))\n",
    "\n",
    "cleaner = Transducer(\"Cleaner\", {cleansq, cleanrd}, {sqclean, rdclean}, {s01}, s01, transitions, outputs)\n",
    "get_transducer_automaton(cleaner)"
   ]
  },
  {
   "cell_type": "code",
   "execution_count": 19,
   "metadata": {
    "pycharm": {
     "is_executing": false
    }
   },
   "outputs": [
    {
     "data": {
      "text/html": "<img src=\"../log/PaintGreen_transducer.png\"/>",
      "text/plain": "<IPython.core.display.Image object>"
     },
     "metadata": {},
     "output_type": "execute_result",
     "execution_count": 19
    }
   ],
   "source": [
    "# Painter of square parts into green color\n",
    "s02 = State('s02')\n",
    "\n",
    "transitions = set()\n",
    "transitions.add(Transition(s02, greensq, s02))\n",
    "\n",
    "outputs = set()\n",
    "outputs.add(Transition(s02, greensq, sqgreen))\n",
    "\n",
    "paint_green = Transducer(\"PaintGreen\", {greensq}, {sqgreen}, {s02}, s02, transitions, outputs)\n",
    "get_transducer_automaton(paint_green)"
   ]
  },
  {
   "cell_type": "code",
   "execution_count": 20,
   "metadata": {
    "pycharm": {
     "is_executing": false
    }
   },
   "outputs": [
    {
     "data": {
      "text/html": "<img src=\"../log/PaintYellow_transducer.png\"/>",
      "text/plain": "<IPython.core.display.Image object>"
     },
     "metadata": {},
     "output_type": "execute_result",
     "execution_count": 20
    }
   ],
   "source": [
    "# Painter of round parts into yellow color\n",
    "s03 = State('s03')\n",
    "\n",
    "transitions = set()\n",
    "transitions.add(Transition(s03, yellowrd, s03))\n",
    "\n",
    "outputs = set()\n",
    "outputs.add(Transition(s03, yellowrd, rdyellow))\n",
    "\n",
    "paint_yellow = Transducer(\"PaintYellow\", {yellowrd}, {rdyellow}, {s03}, s03, transitions, outputs)\n",
    "get_transducer_automaton(paint_yellow)"
   ]
  },
  {
   "cell_type": "code",
   "execution_count": 21,
   "metadata": {
    "pycharm": {
     "is_executing": false
    }
   },
   "outputs": [],
   "source": [
    "# Production resources\n",
    "P = [cleaner, paint_green, paint_yellow]\n",
    "# Error state\n",
    "s_err = State('s_err')"
   ]
  },
  {
   "cell_type": "markdown",
   "metadata": {
    "pycharm": {
     "name": "#%% md\n"
    }
   },
   "source": [
    "## Game definitions"
   ]
  },
  {
   "cell_type": "code",
   "execution_count": null,
   "metadata": {},
   "outputs": [],
   "source": []
  },
  {
   "cell_type": "code",
   "execution_count": null,
   "outputs": [],
   "source": [],
   "metadata": {
    "collapsed": false,
    "pycharm": {
     "name": "#%%\n"
    }
   }
  }
 ],
 "metadata": {
  "kernelspec": {
   "display_name": "PyCharm (ElectiveAIReasoningAgents)",
   "language": "python",
   "name": "pycharm-a6b28215"
  },
  "language_info": {
   "codemirror_mode": {
    "name": "ipython",
    "version": 3
   },
   "file_extension": ".py",
   "mimetype": "text/x-python",
   "name": "python",
   "nbconvert_exporter": "python",
   "pygments_lexer": "ipython3",
   "version": "3.6.5"
  },
  "pycharm": {
   "stem_cell": {
    "cell_type": "raw",
    "source": [],
    "metadata": {
     "collapsed": false
    }
   }
  }
 },
 "nbformat": 4,
 "nbformat_minor": 1
}