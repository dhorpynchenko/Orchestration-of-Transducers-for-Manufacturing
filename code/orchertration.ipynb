{
 "cells": [
  {
   "cell_type": "code",
   "execution_count": 34,
   "metadata": {
    "pycharm": {
     "is_executing": false,
     "name": "#%%\n"
    }
   },
   "outputs": [],
   "source": [
    "from typing import Optional, Any\n",
    "from graphviz import Digraph\n"
   ]
  },
  {
   "cell_type": "markdown",
   "metadata": {},
   "source": [
    "# Classes definition\n",
    "## Transducers"
   ]
  },
  {
   "cell_type": "code",
   "execution_count": 35,
   "metadata": {
    "pycharm": {
     "name": "#%% \n",
     "is_executing": false
    }
   },
   "outputs": [],
   "source": [
    "class State:\n",
    "    \"\"\"\n",
    "    Transducer's automaton state representation\n",
    "    \"\"\"\n",
    "    def __init__(self, name)-> None:\n",
    "        self.name = name\n",
    "        \n",
    "    def __repr__(self)-> str:\n",
    "        return self.name\n",
    "    \n",
    "\n",
    "class Transition:\n",
    "    \"\"\"\n",
    "    Represents state + input -> result \n",
    "    \"\"\"\n",
    "    def __init__(self, state: State, input, output)-> None:\n",
    "        \"\"\"\n",
    "        Create portion of transition change\n",
    "        :param state: state of automaton\n",
    "        :param input: input \n",
    "        :param output: state for transition function or output value for output function\n",
    "        \"\"\"\n",
    "        self.output = output\n",
    "        self.input = input\n",
    "        self.state = state\n",
    "        self.name = str(state) + \" + \" + str(input) + \" -> \" + str(output)\n",
    "        \n",
    "    def __repr__(self)-> str:\n",
    "        return self.name \n",
    "        \n",
    "\n",
    "class Transducer:\n",
    "    def __init__(self, name: str, inputs: set, outputs: set, states: set,\n",
    "                 init_state: State, transitions_f: list, output_f: list)-> None:\n",
    "        \"\"\"\n",
    "        \n",
    "        :param inputs: set of possible inputs\n",
    "        :param outputs: set of possible outputs\n",
    "        :param states: set of states\n",
    "        :param init_state: initial transducer state\n",
    "        :param transitions_f: list of transitions for states\n",
    "        :param output_f: list of transitions for outputs\n",
    "        \"\"\"\n",
    "        super().__init__()\n",
    "        self.name = name\n",
    "        self.output_f = output_f\n",
    "        self.transitions_f = transitions_f\n",
    "        self.init_state = init_state\n",
    "        self.states = states\n",
    "        self.outputs = outputs\n",
    "        self.inputs = inputs\n",
    "    \n",
    "    def get_transaction(self, state: State, inp)-> Optional[State]:\n",
    "        \"\"\"\n",
    "        Searches through out of all defined transactions for a transaction\n",
    "        :param state: current state of automaton\n",
    "        :param inp: input of the transducer\n",
    "        :return: state of automaton after transaction or None\n",
    "        \"\"\"\n",
    "        for trans in self.transitions_f:\n",
    "            if trans.state.name == state.name and trans.input == inp:\n",
    "                return trans.output\n",
    "        return None\n",
    "                \n",
    "    \n",
    "    def get_output(self, state: State, inp) -> Optional[Any]:\n",
    "        \"\"\"\n",
    "        Searches through out the output definitions for a statement with\n",
    "        state + input -> output\n",
    "        :param state: state of the automaton of the transducer\n",
    "        :param inp: input of the transducer\n",
    "        :return: output of output function or None\n",
    "        \"\"\"\n",
    "        for trans in self.output_f:\n",
    "            if trans.state.name == state.name and trans.input == inp:\n",
    "                return trans.output\n",
    "        return None\n"
   ]
  },
  {
   "cell_type": "markdown",
   "metadata": {},
   "source": [
    "## Create target transducer"
   ]
  },
  {
   "cell_type": "code",
   "execution_count": 55,
   "metadata": {
    "pycharm": {
     "is_executing": false,
     "name": "#%%\n"
    }
   },
   "outputs": [],
   "source": [
    "# Create target transducer form paper\n",
    "# States\n",
    "s0 = State('s0')\n",
    "s1 = State('s1')\n",
    "s2 = State('s2')\n",
    "\n",
    "# Inputs\n",
    "cleansq = 'cleansq'\n",
    "cleanrd = 'cleanrd'\n",
    "greensq = 'greensq'\n",
    "yellowrd = 'yellowrd'\n",
    "\n",
    "# Outputs\n",
    "sqclean = 'sqclean'\n",
    "rdclean = 'rdclean'\n",
    "sqgreen = 'sqgreen'\n",
    "rdyellow = 'rdyellow'\n",
    "\n",
    "# Transitions\n",
    "transitions = set()\n",
    "transitions.add(Transition(s0, cleansq, s1))\n",
    "transitions.add(Transition(s0, cleanrd, s2))\n",
    "transitions.add(Transition(s1, greensq, s0))\n",
    "transitions.add(Transition(s2, yellowrd, s0))\n",
    "\n",
    "# Outputs\n",
    "outputs = set()\n",
    "outputs.add(Transition(s0, cleansq, sqclean))\n",
    "outputs.add(Transition(s0, cleanrd, rdclean))\n",
    "outputs.add(Transition(s1, greensq, sqgreen))\n",
    "outputs.add(Transition(s2, yellowrd, rdyellow))\n",
    "\n",
    "input_alphabet = {cleansq, cleanrd, greensq, yellowrd}\n",
    "output_alphabet = {sqclean, rdclean, sqgreen, rdyellow}\n",
    "\n",
    "target_transducer = Transducer('Target', input_alphabet, output_alphabet,\n",
    "                               {s0, s1, s2}, s0, transitions, outputs)\n"
   ]
  },
  {
   "cell_type": "markdown",
   "metadata": {},
   "source": [
    "## Produce an automaton of the target transducer"
   ]
  },
  {
   "cell_type": "code",
   "execution_count": 37,
   "metadata": {
    "pycharm": {
     "is_executing": false
    }
   },
   "outputs": [],
   "source": [
    "def get_transducer_automaton(transducer: Transducer):\n",
    "    from IPython.display import Image\n",
    "    dot = Digraph(comment='The Automaton of %s transducer' % transducer.name)\n",
    "\n",
    "    for state in list(transducer.states):\n",
    "        dot.node(state.name, state.name)\n",
    "\n",
    "    for trans in list(transducer.transitions_f):\n",
    "        dot.edge(trans.state.name, trans.output.name, trans.input)\n",
    "\n",
    "    filename = '../log/%s_transducer' % transducer.name\n",
    "    dot.render(filename, format='png')\n",
    "    return Image(url= filename + '.png')"
   ]
  },
  {
   "cell_type": "code",
   "execution_count": 38,
   "metadata": {
    "pycharm": {
     "is_executing": false,
     "name": "#%%\n"
    }
   },
   "outputs": [
    {
     "data": {
      "text/html": "<img src=\"../log/Target_transducer.png\"/>",
      "text/plain": "<IPython.core.display.Image object>"
     },
     "metadata": {},
     "output_type": "execute_result",
     "execution_count": 38
    }
   ],
   "source": [
    "get_transducer_automaton(target_transducer)"
   ]
  },
  {
   "cell_type": "markdown",
   "metadata": {},
   "source": [
    "## Create production resources P"
   ]
  },
  {
   "cell_type": "code",
   "execution_count": 39,
   "metadata": {
    "pycharm": {
     "is_executing": false
    }
   },
   "outputs": [
    {
     "data": {
      "text/html": "<img src=\"../log/Cleaner_transducer.png\"/>",
      "text/plain": "<IPython.core.display.Image object>"
     },
     "metadata": {},
     "output_type": "execute_result",
     "execution_count": 39
    }
   ],
   "source": [
    "# Cleaner\n",
    "s01 = State('s01')\n",
    "\n",
    "transitions = set()\n",
    "transitions.add(Transition(s01, cleansq, s01))\n",
    "transitions.add(Transition(s01, cleanrd, s01))\n",
    "\n",
    "outputs = set()\n",
    "outputs.add(Transition(s01, cleansq, sqclean))\n",
    "outputs.add(Transition(s01, cleanrd, rdclean))\n",
    "\n",
    "cleaner = Transducer(\"Cleaner\", {cleansq, cleanrd}, {sqclean, rdclean}, {s01}, s01, transitions, outputs)\n",
    "get_transducer_automaton(cleaner)"
   ]
  },
  {
   "cell_type": "code",
   "execution_count": 40,
   "metadata": {
    "pycharm": {
     "is_executing": false
    }
   },
   "outputs": [
    {
     "data": {
      "text/html": "<img src=\"../log/PaintGreen_transducer.png\"/>",
      "text/plain": "<IPython.core.display.Image object>"
     },
     "metadata": {},
     "output_type": "execute_result",
     "execution_count": 40
    }
   ],
   "source": [
    "# Painter of square parts into green color\n",
    "s02 = State('s02')\n",
    "\n",
    "transitions = set()\n",
    "transitions.add(Transition(s02, greensq, s02))\n",
    "\n",
    "outputs = set()\n",
    "outputs.add(Transition(s02, greensq, sqgreen))\n",
    "\n",
    "paint_green = Transducer(\"PaintGreen\", {greensq}, {sqgreen}, {s02}, s02, transitions, outputs)\n",
    "get_transducer_automaton(paint_green)"
   ]
  },
  {
   "cell_type": "code",
   "execution_count": 41,
   "metadata": {
    "pycharm": {
     "is_executing": false
    }
   },
   "outputs": [
    {
     "data": {
      "text/html": "<img src=\"../log/PaintYellow_transducer.png\"/>",
      "text/plain": "<IPython.core.display.Image object>"
     },
     "metadata": {},
     "output_type": "execute_result",
     "execution_count": 41
    }
   ],
   "source": [
    "# Painter of round parts into yellow color\n",
    "s03 = State('s03')\n",
    "\n",
    "transitions = set()\n",
    "transitions.add(Transition(s03, yellowrd, s03))\n",
    "\n",
    "outputs = set()\n",
    "outputs.add(Transition(s03, yellowrd, rdyellow))\n",
    "\n",
    "paint_yellow = Transducer(\"PaintYellow\", {yellowrd}, {rdyellow}, {s03}, s03, transitions, outputs)\n",
    "get_transducer_automaton(paint_yellow)"
   ]
  },
  {
   "cell_type": "code",
   "execution_count": 42,
   "metadata": {
    "pycharm": {
     "is_executing": false
    }
   },
   "outputs": [],
   "source": [
    "# Production resources\n",
    "P = [cleaner, paint_green, paint_yellow]\n",
    "# Error state\n",
    "s_err = State('s_err')\n",
    "out_err = \"<error>\""
   ]
  },
  {
   "cell_type": "markdown",
   "metadata": {
    "pycharm": {
     "name": "#%% md\n"
    }
   },
   "source": [
    "# Safety game for orchestration problem\n",
    "G = ({inputs}, {1, ..., m} Q, q0, ro)\n",
    "## Define game state and game error state"
   ]
  },
  {
   "cell_type": "code",
   "execution_count": 43,
   "outputs": [],
   "source": [
    "class GameState(State):\n",
    "    \"\"\"\n",
    "    State defined as cartesian product of state of the target transducer\n",
    "    and manufacturing resources transducers\n",
    "    \"\"\"\n",
    "    def __init__(self, target_state: State, states: list)-> None:\n",
    "        super().__init__(GameState._generate_state_name(target_state, states))\n",
    "        self.target_state = target_state\n",
    "        self.states = states\n",
    "    \n",
    "    @staticmethod\n",
    "    def _generate_state_name(target_state: State, states: list)-> str:\n",
    "        n = \",\".join([state.name for state in states])\n",
    "        return target_state.name + \";\" + n\n",
    "\n",
    "class GameErrorState(State):\n",
    "    \"\"\"\n",
    "    Error state\n",
    "    \"\"\"\n",
    "    def __init__(self)-> None:\n",
    "        super().__init__('q_err')\n"
   ],
   "metadata": {
    "collapsed": false,
    "pycharm": {
     "name": "#%%\n",
     "is_executing": false
    }
   }
  },
  {
   "cell_type": "markdown",
   "source": [
    "## Build game state space and list of transitions between them\n",
    "Q = S x S1 x...xSm + q_err\n"
   ],
   "metadata": {
    "collapsed": false,
    "pycharm": {
     "name": "#%% md\n"
    }
   }
  },
  {
   "cell_type": "code",
   "execution_count": 56,
   "outputs": [
    {
     "name": "stdout",
     "text": [
      "Already in explored states: s0;s01,s02,s03 Skip\nAlready in explored states: s0;s01,s02,s03 Skip\nAfter game state space exploration following states were found:\nq_err\ns_err;s_err,s02,s03\ns_err;s01,s_err,s03\ns2;s01,s02,s03\ns0;s01,s02,s03\ns_err;s01,s02,s_err\ns1;s01,s02,s03\n\nand following transactions:\ns0;s01,s02,s03+yellowrd->s_err;s_err,s02,s03\ns0;s01,s02,s03+yellowrd->s_err;s01,s_err,s03\ns0;s01,s02,s03+yellowrd->q_err\ns0;s01,s02,s03+cleanrd->s2;s01,s02,s03\ns2;s01,s02,s03+yellowrd->q_err\ns2;s01,s02,s03+yellowrd->s0;s01,s02,s03\ns2;s01,s02,s03+cleanrd->q_err\ns2;s01,s02,s03+cleanrd->s_err;s01,s_err,s03\ns2;s01,s02,s03+cleanrd->s_err;s01,s02,s_err\ns2;s01,s02,s03+greensq->s_err;s_err,s02,s03\ns2;s01,s02,s03+greensq->q_err\ns2;s01,s02,s03+greensq->s_err;s01,s02,s_err\ns2;s01,s02,s03+cleansq->q_err\ns2;s01,s02,s03+cleansq->s_err;s01,s_err,s03\ns2;s01,s02,s03+cleansq->s_err;s01,s02,s_err\ns0;s01,s02,s03+cleanrd->q_err\ns0;s01,s02,s03+greensq->s_err;s_err,s02,s03\ns0;s01,s02,s03+greensq->q_err\ns0;s01,s02,s03+greensq->s_err;s01,s02,s_err\ns0;s01,s02,s03+cleansq->s1;s01,s02,s03\ns1;s01,s02,s03+yellowrd->s_err;s_err,s02,s03\ns1;s01,s02,s03+yellowrd->s_err;s01,s_err,s03\ns1;s01,s02,s03+yellowrd->q_err\ns1;s01,s02,s03+cleanrd->q_err\ns1;s01,s02,s03+cleanrd->s_err;s01,s_err,s03\ns1;s01,s02,s03+cleanrd->s_err;s01,s02,s_err\ns1;s01,s02,s03+greensq->q_err\ns1;s01,s02,s03+greensq->s0;s01,s02,s03\ns1;s01,s02,s03+cleansq->q_err\ns1;s01,s02,s03+cleansq->s_err;s01,s_err,s03\ns1;s01,s02,s03+cleansq->s_err;s01,s02,s_err\ns0;s01,s02,s03+cleansq->q_err\n"
     ],
     "output_type": "stream"
    }
   ],
   "source": [
    "q_err = GameErrorState()\n",
    "q0 = GameState(target_transducer.init_state, [prod_transd.init_state for prod_transd in P])\n",
    "\n",
    "game_states = dict()\n",
    "game_states[q_err.name] = q_err\n",
    "game_transactions = dict()\n",
    "explored_states = dict()\n",
    "\n",
    "def test_target_for_state(curr_state: GameState):\n",
    "    \n",
    "    # If in error state stop exploring\n",
    "    if curr_state == q_err:\n",
    "        print(\"Called to explore error state. Skip\")\n",
    "        return\n",
    "    \n",
    "    # If already explored then stop\n",
    "    if explored_states.get(curr_state.name) is not None:\n",
    "        print(\"Already in explored states: %s Skip\" % curr_state.name)\n",
    "        return\n",
    "    else:\n",
    "        explored_states[curr_state.name] = curr_state\n",
    "    \n",
    "    for input in input_alphabet:\n",
    "        \n",
    "        new_state = target_transducer.get_transaction(curr_state.target_state, input)\n",
    "        target_output = target_transducer.get_output(curr_state.target_state, input)\n",
    "        \n",
    "        if new_state is None:\n",
    "            new_state = s_err\n",
    "            target_output = out_err\n",
    "        \n",
    "        # Check for res output\n",
    "        for h in range(len(P)):\n",
    "            res_transd = P[h]\n",
    "            res_curr_state = curr_state.states[h]\n",
    "            \n",
    "            new_res_state = res_transd.get_transaction(res_curr_state, input)\n",
    "            res_output = res_transd.get_output(res_curr_state, input)\n",
    "            \n",
    "            if new_res_state is None:\n",
    "                new_res_state = s_err\n",
    "                res_output = out_err\n",
    "            \n",
    "            if res_output == target_output:\n",
    "                new_res_states = list(curr_state.states)\n",
    "                new_res_states[h] = new_res_state\n",
    "                new_game_state = GameState(new_state, new_res_states)\n",
    "            else:\n",
    "                new_game_state = q_err\n",
    "            \n",
    "            if game_states.get(new_game_state.name, None) is None:\n",
    "                game_states[new_game_state.name] = new_game_state\n",
    "            else:\n",
    "                new_game_state = game_states[new_game_state.name]\n",
    "            \n",
    "            transition = Transition(curr_state, input, new_game_state)\n",
    "            if game_transactions.get(transition.name, None) is None:\n",
    "                game_transactions[transition.name] = transition\n",
    "            \n",
    "            # Explore states if automatons aren't in error state\n",
    "            if new_res_state != s_err and new_state != s_err:\n",
    "                test_target_for_state(new_game_state)\n",
    "            \n",
    "# Run game states generation from target init state\n",
    "test_target_for_state(q0)\n",
    "\n",
    "print(\"After game state space exploration following states were found:\")\n",
    "for g_s_name in game_states.keys():\n",
    "    print(game_states[g_s_name])\n",
    "\n",
    "print(\"\\nand following transactions:\")\n",
    "for g_t_name in game_transactions.keys():\n",
    "    print(game_transactions[g_t_name])"
   ],
   "metadata": {
    "collapsed": false,
    "pycharm": {
     "name": "#%%\n",
     "is_executing": false
    }
   }
  },
  {
   "cell_type": "markdown",
   "source": [
    "## Check if there is a controller that for P realize target transducer\n",
    "Checking whether there exists a controller C\n",
    "for P that realizes T can be done by solving the safety game\n",
    "G defined above\n"
   ],
   "metadata": {
    "collapsed": false,
    "pycharm": {
     "name": "#%% md\n"
    }
   }
  },
  {
   "cell_type": "code",
   "execution_count": 57,
   "outputs": [
    {
     "name": "stdout",
     "text": [
      "Drop state s_err;s01,s_err,s03 since it doesn't have any appropriate transitions\nDrop state q_err since it doesn't have any appropriate transitions\nDrop state s_err;s01,s02,s_err since it doesn't have any appropriate transitions\nDrop state s_err;s_err,s02,s03 since it doesn't have any appropriate transitions\nNew Win set is \ns1;s01,s02,s03\ns0;s01,s02,s03\ns2;s01,s02,s03\nNew Win set is \ns1;s01,s02,s03\ns0;s01,s02,s03\ns2;s01,s02,s03\nGreatest fix point found.\nWin set is \ns1;s01,s02,s03\ns0;s01,s02,s03\ns2;s01,s02,s03\n"
     ],
     "output_type": "stream"
    }
   ],
   "source": [
    "def get_state_sets_intersection(set1:set, set2:set)-> set:\n",
    "    \"\"\"\n",
    "    Return set of states that are in both sets\n",
    "    :param set1: \n",
    "    :param set2: \n",
    "    :return: set of states\n",
    "    \"\"\"\n",
    "    return set1.intersection(set2)\n",
    "\n",
    "def has_transitions_to_states(state: State, states: set) -> bool:\n",
    "    \"\"\"\n",
    "    Check PreC(states) condition:\n",
    "    Return True that for any input has at least one transition from given state to\n",
    "    a state in states\n",
    "    :param state: given state to check\n",
    "    :param states: Win states to check transition to\n",
    "    :return: True if has transition, False otherwise\n",
    "    \"\"\"\n",
    "    \n",
    "    for g_t_name in game_transactions.keys():\n",
    "        trans = game_transactions[g_t_name]\n",
    "        if trans.state.name == state.name:\n",
    "            to_state = trans.output\n",
    "            for other in states:\n",
    "                if to_state.name == other.name:\n",
    "                    return True\n",
    "    return False\n",
    "\n",
    "prev_states_count = -1\n",
    "win_states = set(game_states.values())\n",
    "while prev_states_count != len(win_states):\n",
    "    prev_states_count = len(win_states)\n",
    "    new_win_states = set()\n",
    "    for state in win_states:\n",
    "        if has_transitions_to_states(state, win_states):\n",
    "            new_win_states.add(state)\n",
    "        else:\n",
    "            print(\"Drop state %s since it doesn't have any appropriate transitions\" % state.name)\n",
    "    win_states = get_state_sets_intersection(win_states, new_win_states)\n",
    "    print(\"New Win set is \\n%s\" % \"\\n\".join(state.name for state in new_win_states))\n",
    "\n",
    "if len(win_states) == 0:\n",
    "    print(\"Win set is empty: there is no controller for P that realizes T\")\n",
    "else:\n",
    "    print(\"Greatest fix point found.\\nWin set is \\n%s\" % \"\\n\".join(state.name for state in win_states))"
   ],
   "metadata": {
    "collapsed": false,
    "pycharm": {
     "name": "#%%\n",
     "is_executing": false
    }
   }
  },
  {
   "cell_type": "markdown",
   "source": [
    "# Strategy Generator\n",
    "Define a strategy generator based on the winning sets Win(G). \n",
    "This is a nondeterministic transducer,where nondeterminism \n",
    "is of the “don’t-care” variety: all nondeterministic choices \n",
    "are equally good.\n",
    "TG = (X × Y; Q; q0; ro; gamma)\n",
    "</br>\n",
    "Since by definition of the task we don't care about cost of the path we use\n",
    "depth-first search for a transition to next state"
   ],
   "metadata": {
    "collapsed": false
   }
  },
  {
   "cell_type": "markdown",
   "source": [
    "## Input sequence\n"
   ],
   "metadata": {
    "collapsed": false,
    "pycharm": {
     "name": "#%% md\n"
    }
   }
  },
  {
   "cell_type": "code",
   "execution_count": 62,
   "outputs": [],
   "source": [
    "input = [cleanrd, yellowrd, cleansq, greensq]\n"
   ],
   "metadata": {
    "collapsed": false,
    "pycharm": {
     "name": "#%%\n",
     "is_executing": false
    }
   }
  },
  {
   "cell_type": "markdown",
   "source": [
    "## Collect outputs from target transducer"
   ],
   "metadata": {
    "collapsed": false,
    "pycharm": {
     "name": "#%% md\n"
    }
   }
  },
  {
   "cell_type": "code",
   "execution_count": 64,
   "outputs": [
    {
     "name": "stdout",
     "text": [
      "On given input sequence output is rdclean, rdyellow, sqclean, sqgreen\n"
     ],
     "output_type": "stream"
    }
   ],
   "source": [
    "outputs = []\n",
    "state = target_transducer.init_state\n",
    "for inp in input:\n",
    "    new_state = target_transducer.get_transaction(state, inp)\n",
    "    outp = target_transducer.get_output(state, inp)\n",
    "    \n",
    "    if new_state is None:\n",
    "        # Error state and output\n",
    "        outputs.append(out_err)\n",
    "    else:\n",
    "        outputs.append(outp)\n",
    "        state = new_state\n",
    "\n",
    "print(\"On the given input sequence an output is %s\" % \", \".join(outputs))"
   ],
   "metadata": {
    "collapsed": false,
    "pycharm": {
     "name": "#%%\n",
     "is_executing": false
    }
   }
  },
  {
   "cell_type": "markdown",
   "source": [
    "## Search for manufacturing resources pipeline that realize target output on the given input\n",
    " "
   ],
   "metadata": {
    "collapsed": false
   }
  },
  {
   "cell_type": "code",
   "execution_count": 67,
   "outputs": [
    {
     "name": "stdout",
     "text": [
      "Sequence of resources: 0(Cleaner)-> 2(PaintYellow)-> 0(Cleaner)-> 1(PaintGreen)\n"
     ],
     "output_type": "stream"
    }
   ],
   "source": [
    "states = [transd.init_state for transd in P]\n",
    "res_indexes = []\n",
    "res_output = []\n",
    "\n",
    "def find_resource(input, output, res_states)-> Optional[int]:\n",
    "    \"\"\"\n",
    "    Depth-first search among manufacturing resources\n",
    "    :param input: \n",
    "    :param output: \n",
    "    :param res_states: \n",
    "    :return: manufacturing transducer index or None if not found\n",
    "    \"\"\"\n",
    "    for i in range(len(P)):\n",
    "        res_trans = P[i]\n",
    "        res_out = res_trans.get_output(res_states[i], input)\n",
    "        if res_out is None:\n",
    "            res_out = out_err\n",
    "        if res_out == output:\n",
    "            return i\n",
    "    return None\n",
    "\n",
    "for inp_index in range(len(input)):\n",
    "    t_input = input[inp_index]\n",
    "    t_output = outputs[inp_index]\n",
    "    \n",
    "    res_index = find_resource(t_input, t_output, states)\n",
    "    if res_index is None:\n",
    "        print(\"Not able to find manufacturing resource that can produce an output %s for the input %s\" % (t_input, t_output))\n",
    "        break\n",
    "    \n",
    "    res_indexes.append(res_index)\n",
    "    res_transd = P[res_index]\n",
    "    new_res_state = res_transd.get_transaction(states[res_index], t_input)\n",
    "    res_out = res_transd.get_output(states[res_index], t_input)\n",
    "    \n",
    "    if new_res_state is None:\n",
    "        res_output.append(out_err)\n",
    "    else:\n",
    "        res_output.append(res_out)\n",
    "        states[res_index] = new_res_state\n",
    "    \n",
    "print(\"Sequence of resources: %s\" % \"-> \".join(str(i) + \"(\" + P[i].name + \")\" for i in res_indexes))    "
   ],
   "metadata": {
    "collapsed": false,
    "pycharm": {
     "name": "#%%\n",
     "is_executing": false
    }
   }
  }
 ],
 "metadata": {
  "kernelspec": {
   "display_name": "PyCharm (ElectiveAIReasoningAgents)",
   "language": "python",
   "name": "pycharm-a6b28215"
  },
  "language_info": {
   "codemirror_mode": {
    "name": "ipython",
    "version": 3
   },
   "file_extension": ".py",
   "mimetype": "text/x-python",
   "name": "python",
   "nbconvert_exporter": "python",
   "pygments_lexer": "ipython3",
   "version": "3.6.5"
  },
  "pycharm": {
   "stem_cell": {
    "cell_type": "raw",
    "source": [],
    "metadata": {
     "collapsed": false
    }
   }
  }
 },
 "nbformat": 4,
 "nbformat_minor": 1
}