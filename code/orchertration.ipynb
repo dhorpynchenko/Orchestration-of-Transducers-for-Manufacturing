{
 "cells": [
  {
   "cell_type": "code",
   "execution_count": 1,
   "metadata": {
    "pycharm": {
     "is_executing": false,
     "name": "#%%\n"
    }
   },
   "outputs": [],
   "source": [
    "import os\n",
    "from typing import Optional, Any\n",
    "from graphviz import Digraph\n"
   ]
  },
  {
   "cell_type": "markdown",
   "metadata": {},
   "source": [
    "# Classes definition\n",
    "## Transducers"
   ]
  },
  {
   "cell_type": "code",
   "execution_count": 2,
   "metadata": {
    "pycharm": {
     "is_executing": false,
     "name": "#%% \n"
    }
   },
   "outputs": [],
   "source": [
    "class State:\n",
    "    \"\"\"\n",
    "    Transducer's automaton state representation\n",
    "    \"\"\"\n",
    "    def __init__(self, name)-> None:\n",
    "        self.name = name\n",
    "        \n",
    "    def __repr__(self)-> str:\n",
    "        return self.name\n",
    "    \n",
    "\n",
    "class Transition:\n",
    "    \"\"\"\n",
    "    Represents state + input -> result \n",
    "    \"\"\"\n",
    "    def __init__(self, state: State, input, output)-> None:\n",
    "        \"\"\"\n",
    "        Create portion of transition change\n",
    "        :param state: state of automaton\n",
    "        :param input: input \n",
    "        :param output: state for transition function or output value for output function\n",
    "        \"\"\"\n",
    "        self.output = output\n",
    "        self.input = input\n",
    "        self.state = state\n",
    "        self.name = str(state) + \" + \" + str(input) + \" -> \" + str(output)\n",
    "        \n",
    "    def __repr__(self)-> str:\n",
    "        return self.name \n",
    "        \n",
    "\n",
    "class Transducer:\n",
    "    \n",
    "    @staticmethod\n",
    "    def from_file(path):\n",
    "        states = dict()\n",
    "        transitions = set()\n",
    "        outputs = set()\n",
    "        init_state = None\n",
    "        \n",
    "        def generate_state(name):\n",
    "            s = states.get(name, None)\n",
    "            if s is None:\n",
    "                s = State(name)\n",
    "                states[s.name] = s\n",
    "            return s\n",
    "        \n",
    "        with open(path) as f:\n",
    "            for line in f.readlines():\n",
    "                line = line.strip()\n",
    "                parts = line.split(\" \")\n",
    "                \n",
    "                if parts[0] == \"#\" and parts[1] == \"init\":\n",
    "                    init_state = generate_state(parts[2])\n",
    "                    continue\n",
    "                \n",
    "                s = generate_state(parts[0])\n",
    "                \n",
    "                results_parts = parts[2].strip().split(\"->\")\n",
    "                s_prime = generate_state(results_parts[0])\n",
    "                transitions.add(Transition(s, parts[1], s_prime))\n",
    "                outputs.add(Transition(s, parts[1], results_parts[1]))\n",
    "        return Transducer(os.path.splitext(os.path.basename(path))[0], init_state, transitions, outputs)\n",
    "                \n",
    "                \n",
    "    \n",
    "    def __init__(self, name: str, init_state: State, transitions_f: list, output_f: list)-> None:\n",
    "        \"\"\"\n",
    "        \n",
    "        :param inputs: set of possible inputs\n",
    "        :param outputs: set of possible outputs\n",
    "        :param states: set of states\n",
    "        :param init_state: initial transducer state\n",
    "        :param transitions_f: list of transitions for states\n",
    "        :param output_f: list of transitions for outputs\n",
    "        \"\"\"\n",
    "        super().__init__()\n",
    "        self.name = name\n",
    "        self.output_f = output_f\n",
    "        self.transitions_f = transitions_f\n",
    "        self.init_state = init_state\n",
    "        self.states = {t.state for t in transitions_f}\n",
    "        assert init_state is not None and init_state in self.states\n",
    "        self.outputs = {t.output for t in output_f}\n",
    "        self.inputs = {t.input for t in transitions_f}\n",
    "    \n",
    "    def get_transaction(self, state: State, inp)-> Optional[State]:\n",
    "        \"\"\"\n",
    "        Searches through out of all defined transactions for a transaction\n",
    "        :param state: current state of automaton\n",
    "        :param inp: input of the transducer\n",
    "        :return: state of automaton after transaction or None\n",
    "        \"\"\"\n",
    "        for trans in self.transitions_f:\n",
    "            if trans.state.name == state.name and trans.input == inp:\n",
    "                return trans.output\n",
    "        return None\n",
    "                \n",
    "    \n",
    "    def get_output(self, state: State, inp) -> Optional[Any]:\n",
    "        \"\"\"\n",
    "        Searches through out the output definitions for a statement with\n",
    "        state + input -> output\n",
    "        :param state: state of the automaton of the transducer\n",
    "        :param inp: input of the transducer\n",
    "        :return: output of output function or None\n",
    "        \"\"\"\n",
    "        for trans in self.output_f:\n",
    "            if trans.state.name == state.name and trans.input == inp:\n",
    "                return trans.output\n",
    "        return None\n"
   ]
  },
  {
   "cell_type": "markdown",
   "metadata": {
    "pycharm": {
     "name": "#%% md\n"
    }
   },
   "source": [
    "## Define game state and game error state"
   ]
  },
  {
   "cell_type": "code",
   "execution_count": 3,
   "metadata": {
    "pycharm": {
     "is_executing": false,
     "name": "#%%\n"
    }
   },
   "outputs": [],
   "source": [
    "class GameState(State):\n",
    "    \"\"\"\n",
    "    State defined as cartesian product of state of the target transducer\n",
    "    and manufacturing resources transducers\n",
    "    \"\"\"\n",
    "    def __init__(self, target_state: State, states: list)-> None:\n",
    "        super().__init__(GameState._generate_state_name(target_state, states))\n",
    "        self.target_state = target_state\n",
    "        self.states = states\n",
    "    \n",
    "    @staticmethod\n",
    "    def _generate_state_name(target_state: State, states: list)-> str:\n",
    "        n = \",\".join([state.name for state in states])\n",
    "        return target_state.name + \";\" + n\n",
    "\n",
    "class GameErrorState(State):\n",
    "    \"\"\"\n",
    "    Error state\n",
    "    \"\"\"\n",
    "    def __init__(self)-> None:\n",
    "        super().__init__('q_err')\n"
   ]
  },
  {
   "cell_type": "markdown",
   "metadata": {},
   "source": [
    "## Produce an automaton of the target transducer"
   ]
  },
  {
   "cell_type": "code",
   "execution_count": 4,
   "metadata": {
    "pycharm": {
     "is_executing": false,
     "name": "#%%\n"
    }
   },
   "outputs": [],
   "source": [
    "def get_transducer_automaton(transducer: Transducer):\n",
    "    from IPython.display import Image\n",
    "    dot = Digraph(comment='The Automaton of %s transducer' % transducer.name)\n",
    "\n",
    "    for state in list(transducer.states):\n",
    "        dot.node(state.name, state.name)\n",
    "\n",
    "    for trans in list(transducer.transitions_f):\n",
    "        output = transducer.get_output(trans.state, trans.input)\n",
    "        dot.edge(trans.state.name, trans.output.name, trans.input + \" | \" + output)\n",
    "\n",
    "    filename = '../log/%s_transducer' % transducer.name\n",
    "    dot.render(filename, format='png')\n",
    "    return Image(url= filename + '.png')\n"
   ]
  },
  {
   "cell_type": "markdown",
   "metadata": {},
   "source": [
    "## Create target transducer"
   ]
  },
  {
   "cell_type": "code",
   "execution_count": 5,
   "metadata": {
    "pycharm": {
     "is_executing": false,
     "name": "#%%\n"
    }
   },
   "outputs": [
    {
     "data": {
      "text/html": [
       "<img src=\"../log/recipe_transducer.png\"/>"
      ],
      "text/plain": [
       "<IPython.core.display.Image object>"
      ]
     },
     "execution_count": 5,
     "metadata": {},
     "output_type": "execute_result"
    }
   ],
   "source": [
    "# Read target transducer\n",
    "#filepath = '../domains/paper_factory/recipe.txt'\n",
    "filepath = '../domains/automechanic/recipe.txt'\n",
    "target_transducer = Transducer.from_file(filepath)\n",
    "get_transducer_automaton(target_transducer)"
   ]
  },
  {
   "cell_type": "markdown",
   "metadata": {},
   "source": [
    "## Create production resources P"
   ]
  },
  {
   "cell_type": "code",
   "execution_count": 6,
   "metadata": {
    "pycharm": {
     "is_executing": false
    }
   },
   "outputs": [
    {
     "data": {
      "text/html": [
       "<img src=\"../log/filter_service_transducer.png\"/>"
      ],
      "text/plain": [
       "<IPython.core.display.Image object>"
      ]
     },
     "execution_count": 6,
     "metadata": {},
     "output_type": "execute_result"
    }
   ],
   "source": [
    "#cleaner = Transducer.from_file('../domains/paper_factory/cleaner.txt')\n",
    "#get_transducer_automaton(cleaner)\n",
    "\n",
    "filter_service = Transducer.from_file('../domains/automechanic/filter_service.txt')\n",
    "get_transducer_automaton(filter_service)\n"
   ]
  },
  {
   "cell_type": "code",
   "execution_count": 7,
   "metadata": {
    "pycharm": {
     "is_executing": false,
     "name": "#%%\n"
    }
   },
   "outputs": [
    {
     "data": {
      "text/html": [
       "<img src=\"../log/engine_service_transducer.png\"/>"
      ],
      "text/plain": [
       "<IPython.core.display.Image object>"
      ]
     },
     "execution_count": 7,
     "metadata": {},
     "output_type": "execute_result"
    }
   ],
   "source": [
    "#paint_green = Transducer.from_file('../domains/paper_factory/painter_green.txt')\n",
    "#get_transducer_automaton(paint_green)\n",
    "\n",
    "engine_service = Transducer.from_file('../domains/automechanic/engine_service.txt')\n",
    "get_transducer_automaton(engine_service)\n"
   ]
  },
  {
   "cell_type": "code",
   "execution_count": 8,
   "metadata": {
    "pycharm": {
     "is_executing": false,
     "name": "#%%\n"
    }
   },
   "outputs": [
    {
     "data": {
      "text/html": [
       "<img src=\"../log/wheels_service_transducer.png\"/>"
      ],
      "text/plain": [
       "<IPython.core.display.Image object>"
      ]
     },
     "execution_count": 8,
     "metadata": {},
     "output_type": "execute_result"
    }
   ],
   "source": [
    "#paint_yellow = Transducer.from_file('../domains/paper_factory/painter_yellow.txt')\n",
    "#get_transducer_automaton(paint_yellow)\n",
    "\n",
    "wheels_service = Transducer.from_file('../domains/automechanic/wheels_service.txt')\n",
    "get_transducer_automaton(wheels_service)\n"
   ]
  },
  {
   "cell_type": "code",
   "execution_count": 9,
   "metadata": {
    "pycharm": {
     "is_executing": false,
     "name": "#%%\n"
    }
   },
   "outputs": [],
   "source": [
    "# Good manufacturing resources\n",
    "#P = [cleaner, paint_green, paint_yellow]\n",
    "P = [wheels_service, filter_service, engine_service]\n",
    "# Insufficient manufacturing resources\n",
    "#P = [paint_green, paint_green, paint_yellow, paint_yellow, paint_green]\n",
    "# Error state\n",
    "s_err = State('s_err')\n",
    "out_err = \"<error>\""
   ]
  },
  {
   "cell_type": "markdown",
   "metadata": {
    "pycharm": {
     "name": "#%% md\n"
    }
   },
   "source": [
    "# Safety game for orchestration problem\n",
    "G = ({inputs}, {1, ..., m} Q, q0, ro)"
   ]
  },
  {
   "cell_type": "markdown",
   "metadata": {
    "pycharm": {
     "name": "#%% md\n"
    }
   },
   "source": [
    "## Build game state space and list of transitions between them\n",
    "Q = S x S1 x...xSm + q_err\n"
   ]
  },
  {
   "cell_type": "code",
   "execution_count": 10,
   "metadata": {
    "pycharm": {
     "is_executing": false,
     "name": "#%%\n"
    }
   },
   "outputs": [
    {
     "name": "stdout",
     "output_type": "stream",
     "text": [
      "Already in explored states: s0;s03,s02,s01 Skip\n",
      "Already in explored states: s0;s03,s02,s01 Skip\n",
      "After game state space exploration following states were found:\n",
      "q_err\n",
      "s_err;s_err,s02,s01\n",
      "s_err;s03,s02,s_err\n",
      "s_err;s03,s_err,s01\n",
      "s1;s03,s02,s01\n",
      "s2;s03,s02,s01\n",
      "s3;s13,s02,s01\n",
      "s_err;s13,s02,s_err\n",
      "s_err;s13,s_err,s01\n",
      "s4;s23,s02,s01\n",
      "s_err;s23,s02,s_err\n",
      "s_err;s23,s_err,s01\n",
      "s5;s33,s02,s01\n",
      "s_err;s33,s02,s_err\n",
      "s_err;s33,s_err,s01\n",
      "s0;s03,s02,s01\n",
      "s6;s43,s02,s01\n",
      "s_err;s43,s02,s_err\n",
      "s7;s53,s02,s01\n",
      "s_err;s53,s02,s_err\n",
      "s_err;s53,s_err,s01\n",
      "s8;s63,s02,s01\n",
      "s_err;s63,s02,s_err\n",
      "s_err;s63,s_err,s01\n",
      "s_err;s43,s_err,s01\n",
      "\n",
      "and following transactions:\n",
      "s0;s03,s02,s01 + change_fil -> s_err;s_err,s02,s01\n",
      "s0;s03,s02,s01 + change_fil -> q_err\n",
      "s0;s03,s02,s01 + change_fil -> s_err;s03,s02,s_err\n",
      "s0;s03,s02,s01 + pump_fl -> q_err\n",
      "s0;s03,s02,s01 + pump_fl -> s_err;s03,s_err,s01\n",
      "s0;s03,s02,s01 + pump_fl -> s_err;s03,s02,s_err\n",
      "s0;s03,s02,s01 + pump_rr -> s_err;s_err,s02,s01\n",
      "s0;s03,s02,s01 + pump_rr -> s_err;s03,s_err,s01\n",
      "s0;s03,s02,s01 + pump_rr -> s_err;s03,s02,s_err\n",
      "s0;s03,s02,s01 + check_eng -> q_err\n",
      "s0;s03,s02,s01 + check_eng -> s1;s03,s02,s01\n",
      "s1;s03,s02,s01 + change_fil -> q_err\n",
      "s1;s03,s02,s01 + change_fil -> s2;s03,s02,s01\n",
      "s2;s03,s02,s01 + change_fil -> s_err;s_err,s02,s01\n",
      "s2;s03,s02,s01 + change_fil -> q_err\n",
      "s2;s03,s02,s01 + change_fil -> s_err;s03,s02,s_err\n",
      "s2;s03,s02,s01 + pump_fl -> s3;s13,s02,s01\n",
      "s3;s13,s02,s01 + change_fil -> s_err;s_err,s02,s01\n",
      "s3;s13,s02,s01 + change_fil -> q_err\n",
      "s3;s13,s02,s01 + change_fil -> s_err;s13,s02,s_err\n",
      "s3;s13,s02,s01 + pump_fl -> s_err;s_err,s02,s01\n",
      "s3;s13,s02,s01 + pump_fl -> s_err;s13,s_err,s01\n",
      "s3;s13,s02,s01 + pump_fl -> s_err;s13,s02,s_err\n",
      "s3;s13,s02,s01 + pump_rr -> s_err;s_err,s02,s01\n",
      "s3;s13,s02,s01 + pump_rr -> s_err;s13,s_err,s01\n",
      "s3;s13,s02,s01 + pump_rr -> s_err;s13,s02,s_err\n",
      "s3;s13,s02,s01 + check_eng -> s_err;s_err,s02,s01\n",
      "s3;s13,s02,s01 + check_eng -> s_err;s13,s_err,s01\n",
      "s3;s13,s02,s01 + check_eng -> q_err\n",
      "s3;s13,s02,s01 + pump_fr -> s4;s23,s02,s01\n",
      "s4;s23,s02,s01 + change_fil -> s_err;s_err,s02,s01\n",
      "s4;s23,s02,s01 + change_fil -> q_err\n",
      "s4;s23,s02,s01 + change_fil -> s_err;s23,s02,s_err\n",
      "s4;s23,s02,s01 + pump_fl -> s_err;s_err,s02,s01\n",
      "s4;s23,s02,s01 + pump_fl -> s_err;s23,s_err,s01\n",
      "s4;s23,s02,s01 + pump_fl -> s_err;s23,s02,s_err\n",
      "s4;s23,s02,s01 + pump_rr -> s5;s33,s02,s01\n",
      "s5;s33,s02,s01 + change_fil -> s_err;s_err,s02,s01\n",
      "s5;s33,s02,s01 + change_fil -> q_err\n",
      "s5;s33,s02,s01 + change_fil -> s_err;s33,s02,s_err\n",
      "s5;s33,s02,s01 + pump_fl -> s_err;s_err,s02,s01\n",
      "s5;s33,s02,s01 + pump_fl -> s_err;s33,s_err,s01\n",
      "s5;s33,s02,s01 + pump_fl -> s_err;s33,s02,s_err\n",
      "s5;s33,s02,s01 + pump_rr -> s_err;s_err,s02,s01\n",
      "s5;s33,s02,s01 + pump_rr -> s_err;s33,s_err,s01\n",
      "s5;s33,s02,s01 + pump_rr -> s_err;s33,s02,s_err\n",
      "s5;s33,s02,s01 + check_eng -> s_err;s_err,s02,s01\n",
      "s5;s33,s02,s01 + check_eng -> s_err;s33,s_err,s01\n",
      "s5;s33,s02,s01 + check_eng -> q_err\n",
      "s5;s33,s02,s01 + pump_fr -> s_err;s_err,s02,s01\n",
      "s5;s33,s02,s01 + pump_fr -> s_err;s33,s_err,s01\n",
      "s5;s33,s02,s01 + pump_fr -> s_err;s33,s02,s_err\n",
      "s5;s33,s02,s01 + pump_rl -> s0;s03,s02,s01\n",
      "s5;s33,s02,s01 + pump_rl -> q_err\n",
      "s4;s23,s02,s01 + pump_rr -> q_err\n",
      "s4;s23,s02,s01 + check_eng -> s_err;s_err,s02,s01\n",
      "s4;s23,s02,s01 + check_eng -> s_err;s23,s_err,s01\n",
      "s4;s23,s02,s01 + check_eng -> q_err\n",
      "s4;s23,s02,s01 + pump_fr -> s_err;s_err,s02,s01\n",
      "s4;s23,s02,s01 + pump_fr -> s_err;s23,s_err,s01\n",
      "s4;s23,s02,s01 + pump_fr -> s_err;s23,s02,s_err\n",
      "s4;s23,s02,s01 + pump_rl -> s_err;s_err,s02,s01\n",
      "s4;s23,s02,s01 + pump_rl -> s_err;s23,s_err,s01\n",
      "s4;s23,s02,s01 + pump_rl -> s_err;s23,s02,s_err\n",
      "s3;s13,s02,s01 + pump_fr -> q_err\n",
      "s3;s13,s02,s01 + pump_rl -> s_err;s_err,s02,s01\n",
      "s3;s13,s02,s01 + pump_rl -> s_err;s13,s_err,s01\n",
      "s3;s13,s02,s01 + pump_rl -> s_err;s13,s02,s_err\n",
      "s2;s03,s02,s01 + pump_fl -> q_err\n",
      "s2;s03,s02,s01 + pump_rr -> s_err;s_err,s02,s01\n",
      "s2;s03,s02,s01 + pump_rr -> s_err;s03,s_err,s01\n",
      "s2;s03,s02,s01 + pump_rr -> s_err;s03,s02,s_err\n",
      "s2;s03,s02,s01 + check_eng -> s_err;s_err,s02,s01\n",
      "s2;s03,s02,s01 + check_eng -> s_err;s03,s_err,s01\n",
      "s2;s03,s02,s01 + check_eng -> q_err\n",
      "s2;s03,s02,s01 + pump_fr -> s6;s43,s02,s01\n",
      "s6;s43,s02,s01 + change_fil -> s_err;s_err,s02,s01\n",
      "s6;s43,s02,s01 + change_fil -> q_err\n",
      "s6;s43,s02,s01 + change_fil -> s_err;s43,s02,s_err\n",
      "s6;s43,s02,s01 + pump_fl -> s7;s53,s02,s01\n",
      "s7;s53,s02,s01 + change_fil -> s_err;s_err,s02,s01\n",
      "s7;s53,s02,s01 + change_fil -> q_err\n",
      "s7;s53,s02,s01 + change_fil -> s_err;s53,s02,s_err\n",
      "s7;s53,s02,s01 + pump_fl -> s_err;s_err,s02,s01\n",
      "s7;s53,s02,s01 + pump_fl -> s_err;s53,s_err,s01\n",
      "s7;s53,s02,s01 + pump_fl -> s_err;s53,s02,s_err\n",
      "s7;s53,s02,s01 + pump_rr -> s_err;s_err,s02,s01\n",
      "s7;s53,s02,s01 + pump_rr -> s_err;s53,s_err,s01\n",
      "s7;s53,s02,s01 + pump_rr -> s_err;s53,s02,s_err\n",
      "s7;s53,s02,s01 + check_eng -> s_err;s_err,s02,s01\n",
      "s7;s53,s02,s01 + check_eng -> s_err;s53,s_err,s01\n",
      "s7;s53,s02,s01 + check_eng -> q_err\n",
      "s7;s53,s02,s01 + pump_fr -> s_err;s_err,s02,s01\n",
      "s7;s53,s02,s01 + pump_fr -> s_err;s53,s_err,s01\n",
      "s7;s53,s02,s01 + pump_fr -> s_err;s53,s02,s_err\n",
      "s7;s53,s02,s01 + pump_rl -> s8;s63,s02,s01\n",
      "s8;s63,s02,s01 + change_fil -> s_err;s_err,s02,s01\n",
      "s8;s63,s02,s01 + change_fil -> q_err\n",
      "s8;s63,s02,s01 + change_fil -> s_err;s63,s02,s_err\n",
      "s8;s63,s02,s01 + pump_fl -> s_err;s_err,s02,s01\n",
      "s8;s63,s02,s01 + pump_fl -> s_err;s63,s_err,s01\n",
      "s8;s63,s02,s01 + pump_fl -> s_err;s63,s02,s_err\n",
      "s8;s63,s02,s01 + pump_rr -> s0;s03,s02,s01\n",
      "s8;s63,s02,s01 + pump_rr -> q_err\n",
      "s8;s63,s02,s01 + check_eng -> s_err;s_err,s02,s01\n",
      "s8;s63,s02,s01 + check_eng -> s_err;s63,s_err,s01\n",
      "s8;s63,s02,s01 + check_eng -> q_err\n",
      "s8;s63,s02,s01 + pump_fr -> s_err;s_err,s02,s01\n",
      "s8;s63,s02,s01 + pump_fr -> s_err;s63,s_err,s01\n",
      "s8;s63,s02,s01 + pump_fr -> s_err;s63,s02,s_err\n",
      "s8;s63,s02,s01 + pump_rl -> s_err;s_err,s02,s01\n",
      "s8;s63,s02,s01 + pump_rl -> s_err;s63,s_err,s01\n",
      "s8;s63,s02,s01 + pump_rl -> s_err;s63,s02,s_err\n",
      "s7;s53,s02,s01 + pump_rl -> q_err\n",
      "s6;s43,s02,s01 + pump_fl -> q_err\n",
      "s6;s43,s02,s01 + pump_rr -> s_err;s_err,s02,s01\n",
      "s6;s43,s02,s01 + pump_rr -> s_err;s43,s_err,s01\n",
      "s6;s43,s02,s01 + pump_rr -> s_err;s43,s02,s_err\n",
      "s6;s43,s02,s01 + check_eng -> s_err;s_err,s02,s01\n",
      "s6;s43,s02,s01 + check_eng -> s_err;s43,s_err,s01\n",
      "s6;s43,s02,s01 + check_eng -> q_err\n",
      "s6;s43,s02,s01 + pump_fr -> s_err;s_err,s02,s01\n",
      "s6;s43,s02,s01 + pump_fr -> s_err;s43,s_err,s01\n",
      "s6;s43,s02,s01 + pump_fr -> s_err;s43,s02,s_err\n",
      "s6;s43,s02,s01 + pump_rl -> s_err;s_err,s02,s01\n",
      "s6;s43,s02,s01 + pump_rl -> s_err;s43,s_err,s01\n",
      "s6;s43,s02,s01 + pump_rl -> s_err;s43,s02,s_err\n",
      "s2;s03,s02,s01 + pump_fr -> q_err\n",
      "s2;s03,s02,s01 + pump_rl -> s_err;s_err,s02,s01\n",
      "s2;s03,s02,s01 + pump_rl -> s_err;s03,s_err,s01\n",
      "s2;s03,s02,s01 + pump_rl -> s_err;s03,s02,s_err\n",
      "s1;s03,s02,s01 + pump_fl -> q_err\n",
      "s1;s03,s02,s01 + pump_fl -> s_err;s03,s_err,s01\n",
      "s1;s03,s02,s01 + pump_fl -> s_err;s03,s02,s_err\n",
      "s1;s03,s02,s01 + pump_rr -> s_err;s_err,s02,s01\n",
      "s1;s03,s02,s01 + pump_rr -> s_err;s03,s_err,s01\n",
      "s1;s03,s02,s01 + pump_rr -> s_err;s03,s02,s_err\n",
      "s1;s03,s02,s01 + check_eng -> s_err;s_err,s02,s01\n",
      "s1;s03,s02,s01 + check_eng -> s_err;s03,s_err,s01\n",
      "s1;s03,s02,s01 + check_eng -> q_err\n",
      "s1;s03,s02,s01 + pump_fr -> q_err\n",
      "s1;s03,s02,s01 + pump_fr -> s_err;s03,s_err,s01\n",
      "s1;s03,s02,s01 + pump_fr -> s_err;s03,s02,s_err\n",
      "s1;s03,s02,s01 + pump_rl -> s_err;s_err,s02,s01\n",
      "s1;s03,s02,s01 + pump_rl -> s_err;s03,s_err,s01\n",
      "s1;s03,s02,s01 + pump_rl -> s_err;s03,s02,s_err\n",
      "s0;s03,s02,s01 + pump_fr -> q_err\n",
      "s0;s03,s02,s01 + pump_fr -> s_err;s03,s_err,s01\n",
      "s0;s03,s02,s01 + pump_fr -> s_err;s03,s02,s_err\n",
      "s0;s03,s02,s01 + pump_rl -> s_err;s_err,s02,s01\n",
      "s0;s03,s02,s01 + pump_rl -> s_err;s03,s_err,s01\n",
      "s0;s03,s02,s01 + pump_rl -> s_err;s03,s02,s_err\n"
     ]
    }
   ],
   "source": [
    "q_err = GameErrorState()\n",
    "q0 = GameState(target_transducer.init_state, [prod_transd.init_state for prod_transd in P])\n",
    "\n",
    "game_states = dict()\n",
    "game_states[q_err.name] = q_err\n",
    "game_transactions = dict()\n",
    "explored_states = dict()\n",
    "\n",
    "def test_target_for_state(curr_state: GameState):\n",
    "    \n",
    "    # If in error state stop exploring\n",
    "    if curr_state == q_err:\n",
    "        print(\"Called to explore error state. Skip\")\n",
    "        return\n",
    "    \n",
    "    # If already explored then stop\n",
    "    if explored_states.get(curr_state.name) is not None:\n",
    "        print(\"Already in explored states: %s Skip\" % curr_state.name)\n",
    "        return\n",
    "    else:\n",
    "        explored_states[curr_state.name] = curr_state\n",
    "    \n",
    "    for input in target_transducer.inputs:\n",
    "        \n",
    "        new_state = target_transducer.get_transaction(curr_state.target_state, input)\n",
    "        target_output = target_transducer.get_output(curr_state.target_state, input)\n",
    "        \n",
    "        if new_state is None:\n",
    "            new_state = s_err\n",
    "            target_output = out_err\n",
    "        \n",
    "        # Check for res output\n",
    "        for h in range(len(P)):\n",
    "            res_transd = P[h]\n",
    "            res_curr_state = curr_state.states[h]\n",
    "            \n",
    "            new_res_state = res_transd.get_transaction(res_curr_state, input)\n",
    "            res_output = res_transd.get_output(res_curr_state, input)\n",
    "            \n",
    "            if new_res_state is None:\n",
    "                new_res_state = s_err\n",
    "                res_output = out_err\n",
    "            \n",
    "            if res_output == target_output:\n",
    "                new_res_states = list(curr_state.states)\n",
    "                new_res_states[h] = new_res_state\n",
    "                new_game_state = GameState(new_state, new_res_states)\n",
    "            else:\n",
    "                new_game_state = q_err\n",
    "            \n",
    "            if game_states.get(new_game_state.name, None) is None:\n",
    "                game_states[new_game_state.name] = new_game_state\n",
    "            else:\n",
    "                new_game_state = game_states[new_game_state.name]\n",
    "            \n",
    "            transition = Transition(curr_state, input, new_game_state)\n",
    "            if game_transactions.get(transition.name, None) is None:\n",
    "                game_transactions[transition.name] = transition\n",
    "            \n",
    "            # Explore states if automatons aren't in error state\n",
    "            if new_res_state != s_err and new_state != s_err:\n",
    "                test_target_for_state(new_game_state)\n",
    "            \n",
    "# Run game states generation from target init state\n",
    "test_target_for_state(q0)\n",
    "\n",
    "print(\"After game state space exploration following states were found:\")\n",
    "for g_s_name in game_states.keys():\n",
    "    print(game_states[g_s_name])\n",
    "\n",
    "print(\"\\nand following transactions:\")\n",
    "for g_t_name in game_transactions.keys():\n",
    "    print(game_transactions[g_t_name])"
   ]
  },
  {
   "cell_type": "markdown",
   "metadata": {
    "pycharm": {
     "name": "#%% md\n"
    }
   },
   "source": [
    "## Check if there is a controller that for P realize target transducer\n",
    "Checking whether there exists a controller C\n",
    "for P that realizes T can be done by solving the safety game\n",
    "G defined above\n"
   ]
  },
  {
   "cell_type": "code",
   "execution_count": 11,
   "metadata": {
    "pycharm": {
     "is_executing": false,
     "name": "#%%\n"
    }
   },
   "outputs": [
    {
     "name": "stdout",
     "output_type": "stream",
     "text": [
      "Drop state s_err;s13,s_err,s01 since it doesn't have any appropriate transitions\n",
      "Drop state s_err;s53,s02,s_err since it doesn't have any appropriate transitions\n",
      "Drop state s_err;s43,s_err,s01 since it doesn't have any appropriate transitions\n",
      "Drop state s_err;s53,s_err,s01 since it doesn't have any appropriate transitions\n",
      "Drop state q_err since it doesn't have any appropriate transitions\n",
      "Drop state s_err;s_err,s02,s01 since it doesn't have any appropriate transitions\n",
      "Drop state s_err;s03,s02,s_err since it doesn't have any appropriate transitions\n",
      "Drop state s_err;s23,s02,s_err since it doesn't have any appropriate transitions\n",
      "Drop state s_err;s03,s_err,s01 since it doesn't have any appropriate transitions\n",
      "Drop state s_err;s23,s_err,s01 since it doesn't have any appropriate transitions\n",
      "Drop state s_err;s63,s02,s_err since it doesn't have any appropriate transitions\n",
      "Drop state s_err;s33,s02,s_err since it doesn't have any appropriate transitions\n",
      "Drop state s_err;s63,s_err,s01 since it doesn't have any appropriate transitions\n",
      "Drop state s_err;s33,s_err,s01 since it doesn't have any appropriate transitions\n",
      "Drop state s_err;s43,s02,s_err since it doesn't have any appropriate transitions\n",
      "Drop state s_err;s13,s02,s_err since it doesn't have any appropriate transitions\n",
      "New Win set is \n",
      "s8;s63,s02,s01\n",
      "s4;s23,s02,s01\n",
      "s6;s43,s02,s01\n",
      "s5;s33,s02,s01\n",
      "s3;s13,s02,s01\n",
      "s0;s03,s02,s01\n",
      "s1;s03,s02,s01\n",
      "s2;s03,s02,s01\n",
      "s7;s53,s02,s01\n",
      "New Win set is \n",
      "s8;s63,s02,s01\n",
      "s4;s23,s02,s01\n",
      "s6;s43,s02,s01\n",
      "s5;s33,s02,s01\n",
      "s3;s13,s02,s01\n",
      "s0;s03,s02,s01\n",
      "s1;s03,s02,s01\n",
      "s2;s03,s02,s01\n",
      "s7;s53,s02,s01\n",
      "Greatest fix point found.\n",
      "Win set is \n",
      "s8;s63,s02,s01\n",
      "s4;s23,s02,s01\n",
      "s6;s43,s02,s01\n",
      "s5;s33,s02,s01\n",
      "s3;s13,s02,s01\n",
      "s0;s03,s02,s01\n",
      "s1;s03,s02,s01\n",
      "s2;s03,s02,s01\n",
      "s7;s53,s02,s01\n"
     ]
    }
   ],
   "source": [
    "def get_state_sets_intersection(set1:set, set2:set)-> set:\n",
    "    \"\"\"\n",
    "    Return set of states that are in both sets\n",
    "    :param set1: \n",
    "    :param set2: \n",
    "    :return: set of states\n",
    "    \"\"\"\n",
    "    return set1.intersection(set2)\n",
    "\n",
    "def has_transitions_to_states(state: State, states: set) -> bool:\n",
    "    \"\"\"\n",
    "    Check PreC(states) condition:\n",
    "    Return True that for any input has at least one transition from given state to\n",
    "    a state in states\n",
    "    :param state: given state to check\n",
    "    :param states: Win states to check transition to\n",
    "    :return: True if has transition, False otherwise\n",
    "    \"\"\"\n",
    "    \n",
    "    for g_t_name in game_transactions.keys():\n",
    "        trans = game_transactions[g_t_name]\n",
    "        if trans.state.name == state.name:\n",
    "            to_state = trans.output\n",
    "            for other in states:\n",
    "                if to_state.name == other.name:\n",
    "                    return True\n",
    "    return False\n",
    "\n",
    "prev_states_count = -1\n",
    "win_states = set(game_states.values())\n",
    "while prev_states_count != len(win_states):\n",
    "    prev_states_count = len(win_states)\n",
    "    new_win_states = set()\n",
    "    for state in win_states:\n",
    "        if has_transitions_to_states(state, win_states):\n",
    "            new_win_states.add(state)\n",
    "        else:\n",
    "            print(\"Drop state %s since it doesn't have any appropriate transitions\" % state.name)\n",
    "    win_states = get_state_sets_intersection(win_states, new_win_states)\n",
    "    print(\"New Win set is \\n%s\" % \"\\n\".join(state.name for state in new_win_states))\n",
    "\n",
    "if len(win_states) == 0:\n",
    "    print(\"Win set is empty: there is no controller for P that realizes T\")\n",
    "else:\n",
    "    print(\"Greatest fix point found.\\nWin set is \\n%s\" % \"\\n\".join(state.name for state in win_states))"
   ]
  },
  {
   "cell_type": "markdown",
   "metadata": {},
   "source": [
    "# Strategy Generator\n",
    "Define a strategy generator based on the winning sets Win(G). \n",
    "This is a nondeterministic transducer,where nondeterminism \n",
    "is of the “don’t-care” variety: all nondeterministic choices \n",
    "are equally good.\n",
    "TG = (X × Y; Q; q0; ro; gamma)\n",
    "</br>\n",
    "Since by definition of the task we don't care about cost of the path we use\n",
    "depth-first search for a transition to next state"
   ]
  },
  {
   "cell_type": "markdown",
   "metadata": {
    "pycharm": {
     "name": "#%% md\n"
    }
   },
   "source": [
    "## Input sequence\n"
   ]
  },
  {
   "cell_type": "code",
   "execution_count": 12,
   "metadata": {
    "pycharm": {
     "is_executing": false,
     "name": "#%%\n"
    }
   },
   "outputs": [
    {
     "name": "stdout",
     "output_type": "stream",
     "text": [
      "Input sequence: check_eng, change_fil, pump_fl, pump_fr, pump_rr, pump_rl\n"
     ]
    }
   ],
   "source": [
    "# Inputs that leed to a normal sequence of states\n",
    "#input_file = '../domains/paper_factory/inputs_good.txt'\n",
    "input_file = '../domains/automechanic/input_clockw.txt'\n",
    "# Inputs that leed to an error state\n",
    "#input_file = '../domains/paper_factory/inputs_error.txt'\n",
    "inputs = []\n",
    "with open(input_file) as f:\n",
    "    for line in f.readlines():\n",
    "        line = line.strip()\n",
    "        assert line in target_transducer.inputs\n",
    "        inputs.append(line)\n",
    "print(\"Input sequence: %s\" % \", \".join(inputs))"
   ]
  },
  {
   "cell_type": "markdown",
   "metadata": {
    "pycharm": {
     "name": "#%% md\n"
    }
   },
   "source": [
    "## Collect outputs from target transducer"
   ]
  },
  {
   "cell_type": "code",
   "execution_count": 13,
   "metadata": {
    "pycharm": {
     "is_executing": false,
     "name": "#%%\n"
    }
   },
   "outputs": [
    {
     "name": "stdout",
     "output_type": "stream",
     "text": [
      "On the given input sequence an output is engine_ok, filter_ok, wheel_fl_ok, wheel_fr_ok, wheel_rr_ok, wheel_rl_ok\n"
     ]
    }
   ],
   "source": [
    "outputs = []\n",
    "state = target_transducer.init_state\n",
    "for inp in inputs:\n",
    "    new_state = target_transducer.get_transaction(state, inp)\n",
    "    outp = target_transducer.get_output(state, inp)\n",
    "    \n",
    "    if new_state is None:\n",
    "        # Error state and output\n",
    "        outputs.append(out_err)\n",
    "    else:\n",
    "        outputs.append(outp)\n",
    "        state = new_state\n",
    "\n",
    "print(\"On the given input sequence an output is %s\" % \", \".join(outputs))"
   ]
  },
  {
   "cell_type": "markdown",
   "metadata": {},
   "source": [
    "## Search for manufacturing resources pipeline that realize target output on the given input\n",
    " "
   ]
  },
  {
   "cell_type": "code",
   "execution_count": 14,
   "metadata": {
    "pycharm": {
     "is_executing": false,
     "name": "#%%\n"
    }
   },
   "outputs": [
    {
     "name": "stdout",
     "output_type": "stream",
     "text": [
      "Sequence of resources: 2(engine_service)-> 1(filter_service)-> 0(wheels_service)-> 0(wheels_service)-> 0(wheels_service)-> 0(wheels_service)\n"
     ]
    }
   ],
   "source": [
    "states = [transd.init_state for transd in P]\n",
    "res_indexes = []\n",
    "res_output = []\n",
    "\n",
    "def find_resource(input, output, res_states)-> Optional[int]:\n",
    "    \"\"\"\n",
    "    Depth-first search among manufacturing resources\n",
    "    :param input: \n",
    "    :param output: \n",
    "    :param res_states: \n",
    "    :return: manufacturing transducer index or None if not found\n",
    "    \"\"\"\n",
    "    for i in range(len(P)):\n",
    "        res_trans = P[i]\n",
    "        res_out = res_trans.get_output(res_states[i], input)\n",
    "        if res_out is None:\n",
    "            res_out = out_err\n",
    "        if res_out == output:\n",
    "            return i\n",
    "    return None\n",
    "\n",
    "for inp_index in range(len(inputs)):\n",
    "    t_input = inputs[inp_index]\n",
    "    t_output = outputs[inp_index]\n",
    "    \n",
    "    res_index = find_resource(t_input, t_output, states)\n",
    "    if res_index is None:\n",
    "        print(\"Not able to find manufacturing resource that can produce an output %s for the input %s\" % (t_output, t_input))\n",
    "        print(\"States are %s \" % \", \".join([s.name for s in states]))\n",
    "        break\n",
    "    \n",
    "    res_indexes.append(res_index)\n",
    "    res_transd = P[res_index]\n",
    "    new_res_state = res_transd.get_transaction(states[res_index], t_input)\n",
    "    res_out = res_transd.get_output(states[res_index], t_input)\n",
    "    \n",
    "    if new_res_state is None:\n",
    "        res_output.append(out_err)\n",
    "    else:\n",
    "        res_output.append(res_out)\n",
    "        states[res_index] = new_res_state\n",
    "    \n",
    "print(\"Sequence of resources: %s\" % \"-> \".join(str(i) + \"(\" + P[i].name + \")\" for i in res_indexes))    "
   ]
  },
  {
   "cell_type": "code",
   "execution_count": null,
   "metadata": {},
   "outputs": [],
   "source": []
  }
 ],
 "metadata": {
  "kernelspec": {
   "display_name": "PyCharm (ElectiveAIReasoningAgents)",
   "language": "python",
   "name": "pycharm-a6b28215"
  },
  "language_info": {
   "codemirror_mode": {
    "name": "ipython",
    "version": 3
   },
   "file_extension": ".py",
   "mimetype": "text/x-python",
   "name": "python",
   "nbconvert_exporter": "python",
   "pygments_lexer": "ipython3",
   "version": "3.6.5"
  },
  "pycharm": {
   "stem_cell": {
    "cell_type": "raw",
    "metadata": {
     "collapsed": false
    },
    "source": []
   }
  }
 },
 "nbformat": 4,
 "nbformat_minor": 1
}
